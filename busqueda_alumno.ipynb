{
 "cells": [
  {
   "cell_type": "markdown",
   "metadata": {},
   "source": [
    "## Notebook de Exploración en Espacios de Estados\n",
    "\n",
    "Se implementará un notebook con las siguientes funcionalidades:\n",
    "\n",
    "  * Una función expansión, que será utilizada por todos los algoritmos\n",
    "  * Una función por cada algoritmo de búsqueda: profundidad, amplitud, escalada, primero el mejor, branch & bound y A*\n",
    "  * Las funciones deberán recibir como argumento otras funciones que permitan su uso para cualquier problema. Estas funciones dependientes del problema son:\n",
    "    * sucesores(estado)\n",
    "    * heuristico(estado, objetivo)\n",
    "    * coste(camino)\n",
    "\n",
    "Utilizar las funciones desarrolladas para\n",
    "  * Encontrar el trayecto más corto entre dos estaciones del metro de Madrid\n",
    "  * El problema de las vasijas\n",
    "  * El 8-puzzle (opcional)\n",
    "\n",
    "Ampliaciones opcionales:\n",
    "  * Desarrollar una clase busqueda que incluya todos los métodos\n",
    "  * Implementar otros problemas.\n",
    "\n",
    "El profesor suministrará un esqueleto de notebook con algunas funciones implementadas.\n",
    "\n",
    "**Importante**: para la coevaluación, sólo un miembro del grupo sube la práctica, aunque en el nombre del notebook debe aparecer el nombre de los dos.\n",
    "\n"
   ]
  },
  {
   "metadata": {
    "tags": [],
    "ExecuteTime": {
     "end_time": "2024-11-14T21:36:34.582684Z",
     "start_time": "2024-11-14T21:36:34.579160Z"
    }
   },
   "cell_type": "code",
   "source": [
    "def trace (msg): # auxiliar para escribir trazas por pantalla\n",
    "    print(msg, end='\\r', flush=True)"
   ],
   "outputs": [],
   "execution_count": 433
  },
  {
   "metadata": {},
   "cell_type": "markdown",
   "source": "### Algunas cosas de python que necesitamos recordar"
  },
  {
   "metadata": {
    "ExecuteTime": {
     "end_time": "2024-11-14T21:36:34.615933Z",
     "start_time": "2024-11-14T21:36:34.611224Z"
    }
   },
   "cell_type": "code",
   "source": [
    "# una buena manera de representar grafos son los diccionarios\n",
    "grafo = {} # inicializa un diccionario vacío\n",
    "grafo['a'] = ('b', 'c') # asocia la tupla ('b', 'c') a la clave 'a'\n",
    "grafo['a'] # obtiene el valor asociado a la clave 'a'"
   ],
   "outputs": [
    {
     "data": {
      "text/plain": [
       "('b', 'c')"
      ]
     },
     "execution_count": 434,
     "metadata": {},
     "output_type": "execute_result"
    }
   ],
   "execution_count": 434
  },
  {
   "metadata": {
    "ExecuteTime": {
     "end_time": "2024-11-14T21:36:34.686691Z",
     "start_time": "2024-11-14T21:36:34.682472Z"
    }
   },
   "cell_type": "code",
   "source": [
    "\n",
    "# para saber si un elemento está  en una lista\n",
    "l = [1, 2, 3]\n",
    "if 1 in l:\n",
    "    print('sí está')\n",
    "\n",
    "if 4 in l:\n",
    "    print('sí está')"
   ],
   "outputs": [
    {
     "name": "stdout",
     "output_type": "stream",
     "text": [
      "sí está\n"
     ]
    }
   ],
   "execution_count": 435
  },
  {
   "metadata": {
    "ExecuteTime": {
     "end_time": "2024-11-14T21:36:34.751229Z",
     "start_time": "2024-11-14T21:36:34.747142Z"
    }
   },
   "cell_type": "code",
   "source": [
    "\n",
    "# para acceder al último elemento de una lista hay un \"truco\"\n",
    "l[-1]"
   ],
   "outputs": [
    {
     "data": {
      "text/plain": [
       "3"
      ]
     },
     "execution_count": 436,
     "metadata": {},
     "output_type": "execute_result"
    }
   ],
   "execution_count": 436
  },
  {
   "metadata": {
    "ExecuteTime": {
     "end_time": "2024-11-14T21:36:34.850319Z",
     "start_time": "2024-11-14T21:36:34.845299Z"
    }
   },
   "cell_type": "code",
   "source": [
    "\n",
    "# para añadir un elemento al final de una lista (ojo, es destructiva, es decir, modifica la lista original)\n",
    "l.append(4)\n",
    "l"
   ],
   "outputs": [
    {
     "data": {
      "text/plain": [
       "[1, 2, 3, 4]"
      ]
     },
     "execution_count": 437,
     "metadata": {},
     "output_type": "execute_result"
    }
   ],
   "execution_count": 437
  },
  {
   "metadata": {
    "ExecuteTime": {
     "end_time": "2024-11-14T21:36:34.902910Z",
     "start_time": "2024-11-14T21:36:34.898422Z"
    }
   },
   "cell_type": "code",
   "source": [
    "\n",
    "# para concatenar dos listas (no modifica la lista original)\n",
    "l2 = [4, 5, 6] + l\n",
    "print(l2)\n",
    "print(l)\n",
    "\n",
    "l2 = [4,5,6] + [7]\n",
    "print(l2)"
   ],
   "outputs": [
    {
     "name": "stdout",
     "output_type": "stream",
     "text": [
      "[4, 5, 6, 1, 2, 3, 4]\n",
      "[1, 2, 3, 4]\n",
      "[4, 5, 6, 7]\n"
     ]
    }
   ],
   "execution_count": 438
  },
  {
   "metadata": {
    "ExecuteTime": {
     "end_time": "2024-11-14T21:36:34.997606Z",
     "start_time": "2024-11-14T21:36:34.992594Z"
    }
   },
   "cell_type": "code",
   "source": [
    "\n",
    "# concatenación destructiva (destruye la lista original, pero es más eficiente)\n",
    "l2 = [4, 5, 6]\n",
    "l2.extend(l)\n",
    "l2"
   ],
   "outputs": [
    {
     "data": {
      "text/plain": [
       "[4, 5, 6, 1, 2, 3, 4]"
      ]
     },
     "execution_count": 439,
     "metadata": {},
     "output_type": "execute_result"
    }
   ],
   "execution_count": 439
  },
  {
   "metadata": {
    "ExecuteTime": {
     "end_time": "2024-11-14T21:36:35.130285Z",
     "start_time": "2024-11-14T21:36:35.125677Z"
    }
   },
   "cell_type": "code",
   "source": [
    "\n",
    "# slicing de listas\n",
    "l = [1, 2, 3, 4]\n",
    "l[1:] # lista sin el primer elemento\n"
   ],
   "outputs": [
    {
     "data": {
      "text/plain": [
       "[2, 3, 4]"
      ]
     },
     "execution_count": 440,
     "metadata": {},
     "output_type": "execute_result"
    }
   ],
   "execution_count": 440
  },
  {
   "cell_type": "code",
   "metadata": {
    "ExecuteTime": {
     "end_time": "2024-11-14T21:36:35.192095Z",
     "start_time": "2024-11-14T21:36:35.187372Z"
    }
   },
   "source": [
    "# equivalente destructivo: pop\n",
    "l.pop(0) # suprime el primer elemento (modifica la lista)\n",
    "l"
   ],
   "outputs": [
    {
     "data": {
      "text/plain": [
       "[2, 3, 4]"
      ]
     },
     "execution_count": 441,
     "metadata": {},
     "output_type": "execute_result"
    }
   ],
   "execution_count": 441
  },
  {
   "cell_type": "code",
   "metadata": {
    "ExecuteTime": {
     "end_time": "2024-11-14T21:36:35.255215Z",
     "start_time": "2024-11-14T21:36:35.250353Z"
    }
   },
   "source": [
    "# sorted\n",
    "\n",
    "l = [1, 4, 3, 2, 0, 8, 7, 5, 6]\n",
    "\n",
    "l_ordenada = sorted(l)\n",
    "\n",
    "print(l_ordenada)\n",
    "\n",
    "l = [('a', 3), ('b', 1), ('d', 0), ('c', 6)]\n",
    "\n",
    "def s2 (a):\n",
    "    return a[1]\n",
    "\n",
    "print(sorted(l, key=s2)) # key indica cómo acceder al item por el que se quiere ordenar dentro de una estructura compleja\n",
    "\n",
    "print(sorted(l, key=lambda x: x[1]))"
   ],
   "outputs": [
    {
     "name": "stdout",
     "output_type": "stream",
     "text": [
      "[0, 1, 2, 3, 4, 5, 6, 7, 8]\n",
      "[('d', 0), ('b', 1), ('a', 3), ('c', 6)]\n",
      "[('d', 0), ('b', 1), ('a', 3), ('c', 6)]\n"
     ]
    }
   ],
   "execution_count": 442
  },
  {
   "cell_type": "code",
   "metadata": {
    "ExecuteTime": {
     "end_time": "2024-11-14T21:36:35.329359Z",
     "start_time": "2024-11-14T21:36:35.324854Z"
    }
   },
   "source": [
    "# Paso de funciones como argumento (Higher Order Functions)\n",
    "# Sirven para \"inyectar dependencias\", es decir, para dejar parte del código sin implementar y permitir que la implementación se pase más adelante a nuestro código\n",
    "# Ejemeplo: imaginemos que queremos elevar todos los elementos de una lista al cuadrado\n",
    "\n",
    "def todos_al_cuadrado (l):\n",
    "    res = []\n",
    "    for e in l:\n",
    "        res.append(e**2)\n",
    "    return res\n",
    "\n",
    "l = [1,2,3,4]\n",
    "l2 = todos_al_cuadrado(l)\n",
    "print(l2)\n"
   ],
   "outputs": [
    {
     "name": "stdout",
     "output_type": "stream",
     "text": [
      "[1, 4, 9, 16]\n"
     ]
    }
   ],
   "execution_count": 443
  },
  {
   "cell_type": "code",
   "metadata": {
    "ExecuteTime": {
     "end_time": "2024-11-14T21:36:35.435226Z",
     "start_time": "2024-11-14T21:36:35.430809Z"
    }
   },
   "source": [
    "\n",
    "# pero, ¿y si quiero elevarlos al cubo? ¿Me tengo que hacer otra función?\n",
    "# ¿Por qué no abstraer la operación a aplcar?\n",
    "\n",
    "def aplica_a_todos (operacion, l):\n",
    "    res = []\n",
    "    for e in l:\n",
    "        res.append(operacion(e))\n",
    "    return res\n",
    "\n",
    "l3 = aplica_a_todos(lambda x: x**3, l)\n",
    "print(l3)\n",
    "\n",
    "l3 = aplica_a_todos(lambda x: x-5, l)\n",
    "print(l3)"
   ],
   "outputs": [
    {
     "name": "stdout",
     "output_type": "stream",
     "text": [
      "[1, 8, 27, 64]\n",
      "[-4, -3, -2, -1]\n"
     ]
    }
   ],
   "execution_count": 444
  },
  {
   "cell_type": "code",
   "metadata": {
    "ExecuteTime": {
     "end_time": "2024-11-14T21:36:35.508631Z",
     "start_time": "2024-11-14T21:36:35.504731Z"
    }
   },
   "source": [
    "\n",
    "# esta función existe ya en python y se llama map\n",
    "\n",
    "l4 = list(map(lambda x: x**3, l))\n",
    "print(l4)\n"
   ],
   "outputs": [
    {
     "name": "stdout",
     "output_type": "stream",
     "text": [
      "[1, 8, 27, 64]\n"
     ]
    }
   ],
   "execution_count": 445
  },
  {
   "cell_type": "markdown",
   "metadata": {},
   "source": [
    "### Grafo de ejemplo de las diapositivas de clase"
   ]
  },
  {
   "cell_type": "code",
   "metadata": {
    "ExecuteTime": {
     "end_time": "2024-11-14T21:36:35.567659Z",
     "start_time": "2024-11-14T21:36:35.563999Z"
    }
   },
   "source": [
    "# Grafo ejemplo de las diapositivas\n",
    "\n",
    "# usaremos diccionarios\n",
    "\n",
    "grafo = {}\n",
    "\n",
    "grafo['a'] = ('b', 'c')\n",
    "grafo['b'] = ('a', 'h')\n",
    "grafo['c'] = ('a', 'd', 'e')\n",
    "grafo['d'] = ('c', 'e', 'g')\n",
    "grafo['e'] = ('c', 'd', 'f')\n",
    "grafo['f'] = ('e')\n",
    "grafo['g'] = ('d')\n",
    "grafo['h'] = ('b')"
   ],
   "outputs": [],
   "execution_count": 446
  },
  {
   "cell_type": "code",
   "metadata": {
    "ExecuteTime": {
     "end_time": "2024-11-14T21:36:35.652260Z",
     "start_time": "2024-11-14T21:36:35.647883Z"
    }
   },
   "source": [
    "def sucesores_grafo (grafo, nodo):\n",
    "    return grafo[nodo]"
   ],
   "outputs": [],
   "execution_count": 447
  },
  {
   "cell_type": "markdown",
   "metadata": {},
   "source": [
    "### Expansión de caminos\n",
    "\n",
    "Dado un camino, obtiene los sucesores del último nodo y crea un camino nuevo por cada uno de ellos, siemrpe que el camino resultante no se cíclico."
   ]
  },
  {
   "cell_type": "code",
   "metadata": {
    "ExecuteTime": {
     "end_time": "2024-11-14T21:36:35.681492Z",
     "start_time": "2024-11-14T21:36:35.675512Z"
    }
   },
   "source": [
    "def expandir(camino, sucesores, grafo):\n",
    "    return [camino + [sucesor] for sucesor in sucesores(grafo, camino[-1]) if sucesor not in camino]\n",
    "\n",
    "expandir(['a'], sucesores_grafo, grafo)\n",
    "# debe dar [['a','b'], ['a','c']\n",
    "\n",
    "expandir(['a','c'], sucesores_grafo, grafo)\n",
    "# debe dar [['a','c','d'], ['a','c','e']]"
   ],
   "outputs": [
    {
     "data": {
      "text/plain": [
       "[['a', 'c', 'd'], ['a', 'c', 'e']]"
      ]
     },
     "execution_count": 448,
     "metadata": {},
     "output_type": "execute_result"
    }
   ],
   "execution_count": 448
  },
  {
   "cell_type": "markdown",
   "metadata": {},
   "source": [
    "### Algoritmos no informados"
   ]
  },
  {
   "cell_type": "code",
   "metadata": {
    "ExecuteTime": {
     "end_time": "2024-11-14T21:36:35.767694Z",
     "start_time": "2024-11-14T21:36:35.763180Z"
    }
   },
   "source": [
    "def profundidad (n0, nf, sucesores, grafo):\n",
    "    \"\"\"\tn0 -> estado inicial\n",
    "\tnf -> estado final\n",
    "\tsucesores -> función que permite obtener los sucesores de un nodo\n",
    "\tLa función debe devolver el camino solución, si lo hay, y None en otro caso\"\"\"\n",
    "    \n",
    "    resul = None\n",
    "    \n",
    "    lista_caminos = [[n0]]\n",
    "    \n",
    "    encontrado = False\n",
    "    \n",
    "    while lista_caminos and not encontrado:\n",
    "        \n",
    "        expansiones = expandir(lista_caminos[0] , sucesores, grafo)\n",
    "        \n",
    "        for expansion in expansiones:\n",
    "            if expansion[-1] == nf:\n",
    "                encontrado = True\n",
    "                resul = expansion\n",
    "                break\n",
    "            \n",
    "        lista_caminos = expansiones + lista_caminos[1:]\n",
    "        \n",
    "    return resul\n",
    "\n",
    "print(profundidad(\"a\", \"f\", sucesores_grafo, grafo))"
   ],
   "outputs": [
    {
     "name": "stdout",
     "output_type": "stream",
     "text": [
      "['a', 'c', 'd', 'e', 'f']\n"
     ]
    }
   ],
   "execution_count": 449
  },
  {
   "cell_type": "code",
   "metadata": {
    "ExecuteTime": {
     "end_time": "2024-11-14T21:36:35.830476Z",
     "start_time": "2024-11-14T21:36:35.825672Z"
    }
   },
   "source": [
    "def amplitud (n0, nf, sucesores, grafo):\n",
    "    '''n0 -> estado inicial\n",
    "    nf -> estado final\n",
    "    sucesores -> función que permite obtener los sucesores de un nodo\n",
    "    La función debe devolver el camino solución, si lo hay, y None en otro caso\n",
    "    '''\n",
    "    resul = None\n",
    "    \n",
    "    lista_caminos = [[n0]]\n",
    "    \n",
    "    encontrado = False\n",
    "    \n",
    "    while lista_caminos and not encontrado:\n",
    "        \n",
    "        expansiones = expandir(lista_caminos[0] ,sucesores, grafo)\n",
    "        \n",
    "        for expansion in expansiones:\n",
    "            if expansion[-1] == nf:\n",
    "                encontrado = True\n",
    "                resul = expansion\n",
    "                break\n",
    "            \n",
    "        lista_caminos = lista_caminos[1:] + expansiones\n",
    "        \n",
    "    return resul\n",
    "\n",
    "print(amplitud(\"a\", \"f\", sucesores_grafo, grafo))"
   ],
   "outputs": [
    {
     "name": "stdout",
     "output_type": "stream",
     "text": [
      "['a', 'c', 'e', 'f']\n"
     ]
    }
   ],
   "execution_count": 450
  },
  {
   "cell_type": "markdown",
   "metadata": {},
   "source": [
    "Para los algoritmos informados, necesitamos definir un heurístico, tal que, dados dos nodos, actual y objetivo, devuelva la heurística entre esos dos nodos.\n",
    "  * Para ello utilizaremos la distancia euclídea.\n",
    "  * Necesitamos ampliar nuestra representación para incluir las coordenadas de cada nodo.\n",
    "  * Una posibilidad es usar otro diccionario para las coordenadas."
   ]
  },
  {
   "cell_type": "code",
   "metadata": {
    "ExecuteTime": {
     "end_time": "2024-11-14T21:36:35.918706Z",
     "start_time": "2024-11-14T21:36:35.913572Z"
    }
   },
   "source": [
    "import numpy as np\n",
    "\n",
    "posicion = {}\n",
    "posicion['a'] = (0.0,0.0)\n",
    "posicion['b'] = (1.2, -0.5)\n",
    "posicion['c'] = (1.0, 0.8)\n",
    "posicion['d'] = (2.0, 0.9)\n",
    "posicion['e'] = (1.4, 0.3)\n",
    "posicion['f'] = (2.5, 0.3)\n",
    "posicion['g'] = (2.8, 0.5)\n",
    "posicion['h'] = (0.0, -1.0)\n",
    "\n",
    "def distancia_grafo(n1, n2):\n",
    "    pos_1 = np.array(posicion[n1])\n",
    "    pos_2 = np.array(posicion[n2])\n",
    "    norma = np.linalg.norm(pos_1 - pos_2)\n",
    "    \n",
    "    return norma\n",
    "\n",
    "\n",
    "def coste_grafo(camino):\n",
    "    i = 0\n",
    "    coste = 0.\n",
    "    while i < len(camino) - 1: \n",
    "        coste += distancia_grafo(camino[i], camino[i+1])\n",
    "        i += 1\n",
    "        \n",
    "    return coste\n",
    "        \n",
    "print(coste_grafo([\"a\", \"b\", \"c\"]))"
   ],
   "outputs": [
    {
     "name": "stdout",
     "output_type": "stream",
     "text": [
      "2.6152946437965907\n"
     ]
    }
   ],
   "execution_count": 451
  },
  {
   "cell_type": "markdown",
   "metadata": {},
   "source": [
    "### Algoritmos informados"
   ]
  },
  {
   "cell_type": "code",
   "metadata": {
    "ExecuteTime": {
     "end_time": "2024-11-14T21:36:36.010094Z",
     "start_time": "2024-11-14T21:36:36.004066Z"
    }
   },
   "source": [
    "def escalada (n0, nf, sucesores, h, grafo):\n",
    "    '''n0 -> estado inicial\n",
    "    nf -> estado final\n",
    "    sucesores -> función que permite obtener los sucesores de un nodo\n",
    "    h -> función que se aplica al nodo actual y al nodo final y devuelve la heurística de el nodo actual respecto del nodo final\n",
    "    La función debe devolver el camino solución, si lo hay, y None en otro caso\n",
    "    '''\n",
    "    resul = None\n",
    "    \n",
    "    lista_caminos = [[n0]]\n",
    "    \n",
    "    encontrado = False\n",
    "    \n",
    "    while lista_caminos and not encontrado:\n",
    "        \n",
    "        expansiones = expandir(lista_caminos[0], sucesores, grafo)\n",
    "        \n",
    "        for expansion in expansiones:\n",
    "            if expansion[-1] == nf:\n",
    "                encontrado = True\n",
    "                resul = expansion\n",
    "                break\n",
    "                \n",
    "                \n",
    "        expansiones.sort(key= lambda x: h(x[-1], nf))\n",
    "        lista_caminos = expansiones + lista_caminos[1:]\n",
    "        \n",
    "    return resul\n",
    "\n",
    "print(escalada(\"a\", \"f\", sucesores_grafo, distancia_grafo, grafo))"
   ],
   "outputs": [
    {
     "name": "stdout",
     "output_type": "stream",
     "text": [
      "['a', 'c', 'd', 'e', 'f']\n"
     ]
    }
   ],
   "execution_count": 452
  },
  {
   "cell_type": "code",
   "metadata": {
    "ExecuteTime": {
     "end_time": "2024-11-14T21:36:36.105048Z",
     "start_time": "2024-11-14T21:36:36.099198Z"
    }
   },
   "source": [
    "def primero_el_mejor (n0, nf, sucesores, h, grafo):\n",
    "    '''n0 -> estado inicial\n",
    "    nf -> estado final\n",
    "    sucesores -> función que permite obtener los sucesores de un nodo\n",
    "    h -> función que se aplica al nodo actual y al nodo final y devuelve la heurística de el nodo actual respecto del nodo final\n",
    "    La función debe devolver el camino solución, si lo hay, y None en otro caso\n",
    "    '''\n",
    "    resul = None\n",
    "    \n",
    "    lista_caminos = [[n0]]\n",
    "    \n",
    "    encontrado = False\n",
    "    \n",
    "    while lista_caminos and not encontrado:\n",
    "        \n",
    "        expansiones = expandir(lista_caminos[0] , sucesores, grafo)\n",
    "        \n",
    "        for expansion in expansiones:\n",
    "            if expansion[-1] == nf:\n",
    "                encontrado = True\n",
    "                resul = expansion\n",
    "                break\n",
    "            \n",
    "        \n",
    "        lista_caminos = expansiones + lista_caminos[1:]\n",
    "        lista_caminos.sort(key= lambda x: h(x[-1], nf))\n",
    "        \n",
    "    return resul\n",
    "\n",
    "print(primero_el_mejor(\"a\", \"f\", sucesores_grafo, distancia_grafo, grafo))"
   ],
   "outputs": [
    {
     "name": "stdout",
     "output_type": "stream",
     "text": [
      "['a', 'c', 'd', 'e', 'f']\n"
     ]
    }
   ],
   "execution_count": 453
  },
  {
   "cell_type": "code",
   "metadata": {
    "ExecuteTime": {
     "end_time": "2024-11-14T21:36:36.201580Z",
     "start_time": "2024-11-14T21:36:36.194773Z"
    }
   },
   "source": [
    "from copy import deepcopy\n",
    "\n",
    "def poda (caminos, coste_grafo): # si dos caminos que llegan al mismo nodo, elimina el más costoso, suponemos que están ordenados de menor a mayor coste\n",
    "    \n",
    "    diccionario = {}\n",
    "    indices_a_podar = []\n",
    "    \n",
    "    for i, camino in enumerate(caminos):\n",
    "        if not diccionario.get(camino[-1]):\n",
    "            diccionario[camino[-1]] = (coste_grafo(camino), i)\n",
    "        else:\n",
    "            if coste_grafo(camino) < diccionario[camino[-1]][0]:\n",
    "                indices_a_podar.append(diccionario[camino[-1]][1])\n",
    "                diccionario[camino[-1]] = (coste_grafo(camino), i)\n",
    "            else:\n",
    "                indices_a_podar.append(i)\n",
    "\n",
    "    for indice in sorted(indices_a_podar, reverse=True):\n",
    "        caminos.pop(indice)\n",
    "    \n",
    "    return caminos\n",
    "                \n",
    "        \n",
    "\n",
    "def branch_and_bound (n0, nf, sucesores, coste_grafo, grafo):\n",
    "    '''n0 -> estado inicial\n",
    "    nf -> estado final\n",
    "    sucesores -> función que permite obtener los sucesores de un nodo\n",
    "    coste_grafo -> función que se aplica a un camino y devuelve el coste total de dicho camino\n",
    "    La función debe devolver el camino solución, si lo hay, y None en otro caso\n",
    "    '''\n",
    "    resul = None\n",
    "    \n",
    "    lista_caminos = [[n0]]\n",
    "    \n",
    "    encontrado = False\n",
    "    \n",
    "    while lista_caminos and not encontrado:\n",
    "        \n",
    "        expansiones = expandir(lista_caminos[0], sucesores, grafo)\n",
    "        \n",
    "        for expansion in expansiones:\n",
    "            if expansion[-1] == nf:\n",
    "                encontrado = True\n",
    "                resul = expansion\n",
    "                break\n",
    "            \n",
    "        \n",
    "        lista_caminos = expansiones + lista_caminos[1:]\n",
    "        lista_caminos = poda(lista_caminos, coste_grafo)\n",
    "\n",
    "\n",
    "        lista_caminos.sort(key = coste_grafo)\n",
    "        \n",
    "        \n",
    "    return resul\n",
    "\n",
    "print(branch_and_bound(\"a\", \"f\", sucesores_grafo, coste_grafo, grafo))"
   ],
   "outputs": [
    {
     "name": "stdout",
     "output_type": "stream",
     "text": [
      "['a', 'c', 'e', 'f']\n"
     ]
    }
   ],
   "execution_count": 454
  },
  {
   "cell_type": "code",
   "metadata": {
    "ExecuteTime": {
     "end_time": "2024-11-14T21:36:36.290722Z",
     "start_time": "2024-11-14T21:36:36.284703Z"
    }
   },
   "source": [
    "def a_estrella (n0, nf, sucesores, coste_grafo, h, grafo):\n",
    "    '''n0 -> estado inicial\n",
    "    nf -> estado final\n",
    "    sucesores -> función que permite obtener los sucesores de un nodo\n",
    "    coste_grafo -> función que se aplica a un camino y devuelve el coste total de dicho camino\n",
    "    h -> función que se aplica al nodo actual y al nodo final y devuelve la heurística de el nodo actual respecto del nodo final\n",
    "    La función debe devolver el camino solución, si lo hay, y None en otro caso\n",
    "    '''\n",
    "    resul = None\n",
    "    \n",
    "    lista_caminos = [[n0]]\n",
    "    \n",
    "    encontrado = False\n",
    "    \n",
    "    while lista_caminos and not encontrado:\n",
    "        \n",
    "        expansiones = expandir(lista_caminos[0], sucesores, grafo)        \n",
    "        for expansion in expansiones:\n",
    "            if expansion[-1] == nf:\n",
    "                encontrado = True\n",
    "                resul = expansion\n",
    "                break\n",
    "            \n",
    "        \n",
    "        lista_caminos = expansiones + lista_caminos[1:]\n",
    "        lista_caminos = poda(lista_caminos, coste_grafo)\n",
    "        lista_caminos.sort(key = lambda x: coste_grafo(x) + h(x[-1], nf))\n",
    "        \n",
    "        \n",
    "    return resul\n",
    "\n",
    "print(a_estrella(\"a\", \"f\", sucesores_grafo, coste_grafo, distancia_grafo, grafo))"
   ],
   "outputs": [
    {
     "name": "stdout",
     "output_type": "stream",
     "text": [
      "['a', 'c', 'e', 'f']\n"
     ]
    }
   ],
   "execution_count": 455
  },
  {
   "cell_type": "markdown",
   "metadata": {},
   "source": [
    "### Búsqueda en el metro de madrid\n",
    "\n",
    "La celda siguiente construye la estructura de líneas y estaciones del metro de Madrid.\n",
    "\n",
    "La función sucesores recibe el nombre de una estación como argumento y devuelve las estaciones a las que se puede llegar en un paso."
   ]
  },
  {
   "cell_type": "code",
   "metadata": {
    "tags": [],
    "ExecuteTime": {
     "end_time": "2024-11-14T21:36:36.406729Z",
     "start_time": "2024-11-14T21:36:36.384687Z"
    }
   },
   "source": [
    "L1 = [\"Pinar de Chamartín\",  \"Bambú\",  \"Chamartín\",  \"Plaza de Castilla\",  \"Valdeacederas\",  \"Tetuán\",  \"Estrecho\",  \"Alvarado\",  \"Cuatro Caminos\",  \"Ríos Rosas\",  \"Iglesia\",  \"Bilbao\",  \"Tribunal\",  \"Gran Vía\",  \"Sol\",  \"Tirso de Molina\",  \"Antón Martín\",  \"Estación del Arte\", \"Atocha\",  \"Atocha Renfe\",  \"Menéndez Pelayo\",  \"Pacífico\",  \"Puente de Vallecas\",  \"Nueva Numancia\",  \"Portazgo\",  \"Buenos Aires\",  \"Alto del Arenal\",  \"Miguel Hernández\",  \"Sierra de Guadalupe\",  \"Villa de Vallecas\",  \"Congosto\",  \"La Gavia\",  \"Las Suertes\",  \"Valdecarros\"]\n",
    "L2 = [\"Las Rosas\",  \"Avenida de Guadalajara\",  \"Alsacia\",  \"La Almudena\",  \"La Elipa\",  \"Ventas\",  \"Manuel Becerra\",  \"Goya\",  \"Príncipe de Vergara\",  \"Retiro\",  \"Banco de España\",  \"Sevilla\",  \"Sol\",  \"Ópera\",  \"Santo Domingo\",  \"Noviciado\",  \"San Bernardo\",  \"Quevedo\",  \"Canal\",  \"Cuatro Caminos\"]\n",
    "L3 = [\"Villaverde Alto\",  \"San Cristóbal\",  \"Villaverde Bajo Cruce\",  \"Ciudad de los Ángeles\",  \"San Fermín - Orcasur\",  \"Hospital 12 de Octubre\",  \"Almendrales\",  \"Legazpi\",  \"Delicias\",  \"Palos de la Frontera\",  \"Embajadores\",  \"Lavapiés\",  \"Sol\",  \"Callao\",  \"Plaza de España\",  \"Ventura Rodríguez\",  \"Argüelles\",  \"Moncloa\"]\n",
    "L4 = [\"Argüelles\",  \"San Bernardo\",  \"Bilbao\",  \"Alonso Martínez\",  \"Colón\",  \"Serrano\",  \"Velázquez\",  \"Goya\",  \"Lista\",  \"Diego de León\",  \"Avenida de América\",  \"Prosperidad\",  \"Alfonso XIII\",  \"Avenida de la Paz\",  \"Arturo Soria\",  \"Esperanza\",  \"Canillas\",  \"Mar de Cristal\",  \"San Lorenzo\",  \"Parque de Santa María\",  \"Hortaleza\",  \"Manoteras\",  \"Pinar de Chamartín\"]\n",
    "L5 = [\"Alameda de Osuna\",  \"El Capricho\",  \"Canillejas\",  \"Torre Arias\",  \"Suanzes\",  \"Ciudad Lineal\",  \"Pueblo Nuevo\",  \"Quintana\",  \"El Carmen\",  \"Ventas\",  \"Diego de León\",  \"Núñez de Balboa\",  \"Rubén Darío\",  \"Alonso Martínez\",  \"Chueca\",  \"Gran Vía\",  \"Callao\",  \"Ópera\",  \"La Latina\",  \"Puerta de Toledo\",  \"Acacias\",  \"Pirámides\",  \"Marqués de Vadillo\",  \"Urgel\",  \"Oporto\",  \"Vista Alegre\",  \"Carabanchel\",  \"Eugenia de Montijo\",  \"Aluche\",  \"Empalme\",  \"Campamento\",  \"Casa de Campo\"]\n",
    "L6 = [\"Laguna\",  \"Carpetana\",  \"Oporto\",  \"Opañel\",  \"Plaza Elíptica\",  \"Usera\",  \"Legazpi\",  \"Arganzuela - Planetario\",  \"Méndez Álvaro\",  \"Pacífico\",  \"Conde de Casal\",  \"Sainz de Baranda\",  \"O'Donnell\",  \"Manuel Becerra\",  \"Diego de León\",  \"Avenida de América\",  \"República Argentina\",  \"Nuevos Ministerios\",  \"Cuatro Caminos\",  \"Guzmán el Bueno\",  \"Metropolitano\",  \"Ciudad Universitaria\",  \"Moncloa\",  \"Argüelles\",  \"Principe Pío\",  \"Puerta del Ángel\",  \"Alto de Extremadura\",  \"Lucero\", \"Laguna\"] # ojo, circular\n",
    "L7 = [\"Hospital del Henares\",  \"Henares\",  \"Jarama\",  \"San Fernando\",  \"La Rambla\",  \"Coslada Central\",  \"Barrio del Puerto\",  \"Estadio Olímpico\",  \"Estadio Olímpico\",  \"Las Musas\",  \"San Blas\",  \"Simancas\",  \"García Noblejas\",  \"Ascao\",  \"Pueblo Nuevo\",  \"Barrio de la Concepción\",  \"Parque de las Avenidas\",  \"Cartagena\",  \"Avenida de América\",  \"Gregorio Marañón\",  \"Alonso Cano\",  \"Canal\",  \"Islas Filipinas\",  \"Guzmán el Bueno\",  \"Francos Rodríguez\",  \"Valdezarza\",  \"Antonio Machado\",  \"Peñagrande\",  \"Avenida de la Ilustración\",  \"Lacoma\",  \"Pitis\"]\n",
    "L8 = [\"Nuevos Ministerios\",  \"Colombia\",  \"Pinar del Rey\",  \"Mar de Cristal\",  \"Campo de las Naciones\",  \"Aeropuerto T1 T2 T3\",  \"Barajas\",  \"Aeropuerto T4\"]\n",
    "L9 = [\"Paco de Lucía\",  \"Mirasierra\",  \"Herrera Oria\",  \"Barrio del Pilar\",  \"Ventilla\",  \"Plaza de Castilla\",  \"Duque de Pastrana\",  \"Pío XII\",  \"Colombia\",  \"Concha Espina\",  \"Cruz del Rayo\",  \"Avenida de América\",  \"Núñez de Balboa\",  \"Príncipe de Vergara\",  \"Ibiza\",  \"Sainz de Baranda\",  \"Estrella\",  \"Vinateros\",  \"Artilleros\",  \"Pavones\",  \"Valdebernardo\",  \"Vicálvaro\",  \"San Cipriano\",  \"Puerta de Arganda\",  \"Puerta de Arganda\",  \"Rivas Urbanizaciones\",  \"Rivas Futura\",  \"Rivas Vaciamadrid\",  \"La Poveda\",  \"Arganda del Rey\"]\n",
    "L10 = [\"Hospital Infanta Sofía\",  \"Reyes Católicos\",  \"Baunatal\",  \"Manuel de Falla\",  \"Marqués de la Valdavia\",  \"La Moraleja\",  \"La Granja\",  \"Ronda de la Comunicación\",  \"Las Tablas\",  \"Montecarmelo\",  \"Tres Olivos\",  \"Tres Olivos\",  \"Fuencarral\",  \"Begoña\",  \"Chamartín\",  \"Plaza de Castilla\",  \"Cuzco\",  \"Santiago Bernabéu\",  \"Nuevos Ministerios\",  \"Gregorio Marañón\",  \"Alonso Martínez\",  \"Tribunal\",  \"Plaza de España\",  \"Principe Pío\",  \"Lago\",  \"Batán\",  \"Casa de Campo\",  \"Colonia Jardín\",  \"Aviación Española\",  \"Cuatro Vientos\",  \"Joaquín Vilumbrales\",  \"Puerta del Sur\"]\n",
    "L11 = [\"Plaza Elíptica\",  \"Abrantes\",  \"Pan Bendito\",  \"San Francisco\",  \"Carabanchel Alto\",  \"La Peseta\",  \"La Fortuna\"]\n",
    "L12 = [\"Puerta del Sur\",  \"Parque Lisboa\",  \"Alcorcón Central\",  \"Parque Oeste\",  \"Universidad Rey Juan Carlos\",  \"Móstoles Central\",  \"Pradillo\",  \"Hospital de Móstoles\",  \"Manuela Malasaña\",  \"Loranca\",  \"Hospital de Fuenlabrada\",  \"Parque Europa\",  \"Fuenlabrada Central\",  \"Parque de los Estados\",  \"Arroyo Culebro\",  \"Conservatorio\",  \"Alonso de Mendoza\",  \"Getafe Central\",  \"Juan de la Cierva\",  \"El Casar\",  \"Los Espartales\",  \"El Bercial\",  \"El Carrascal\",  \"Julián Besteiro\",  \"Casa del Reloj\",  \"Hospital Severo Ochoa\",  \"Leganés Central\",  \"San Nicasio\"]\n",
    "LR = [\"Ópera\",  \"Principe Pío\"]\n",
    "ML1 = [\"Pinar de Chamartín\",  \"Fuente de la Mora\",  \"Virgen del Cortijo\",  \"Antonio Saura\",  \"Álvarez de Villaamil\",  \"Blasco Ibáñez\",  \"María Tudor\",  \"Palas de Rey\",  \"Las Tablas\"]\n",
    "ML2 = [\"Colonia Jardín\",  \"Prado de la Vega\",  \"Colonia de los Ángeles\",  \"Prado del Rey\",  \"Somosaguas Sur\",  \"Somosaguas Centro\",  \"Pozuelo Oeste\",  \"Bélgica\",  \"Dos Castillas\",  \"Campus de Somosaguas\",  \"Avenida de Europa\",  \"Berna\",  \"Estación de Aravaca\"]\n",
    "ML3 = [\"Colonia Jardín\",  \"Ciudad de la Imagen\",  \"José Isbert\",  \"Ciudad del Cine\",  \"Cocheras\",  \"Retamares\",  \"Montepríncipe\",  \"Ventorro del Cano\",  \"Prado del Espino\",  \"Cantabria\",  \"Ferial de Boadilla\",  \"Boadilla Centro\",  \"Nuevo Mundo\",  \"Siglo XXI\",  \"Infante Don Luís\",  \"Puerta de Boadilla\"]\n",
    "E1 = [\"Plaza de España\", \"Noviciado\"]\n",
    "E2 = [\"Embajadores\", \"Acacias\"]\n",
    "todas = [L1, L2, L3, L4, L5, L6, L7, L8, L9, L10, L11, L12, LR, ML1, ML2, ML3, E1, E2]\n",
    "\n",
    "# para quitar acentos\n",
    "a,b = 'áéíóúü','aeiouu'\n",
    "trans = str.maketrans(a,b)\n",
    "\n",
    "def buildModel (): # construye el grafo a partir de las listas de líneas\n",
    "    # para cada estación busca: la anterior, la siguiente, los transbordos\n",
    "    lista = ['#']\n",
    "    for linea in todas:\n",
    "        lista += linea\n",
    "        lista += '#' # separa líneas entre sí\n",
    "\n",
    "    model = {} # modelo que almacenará todos los sucesores de cada estación\n",
    "    for e in lista: # para cada estación\n",
    "        if e == '#':\n",
    "            continue\n",
    "        sucesores = []\n",
    "\n",
    "        for i in range(len(lista)): # para cada aparición de la estación\n",
    "            if e == lista[i]:\n",
    "                if lista[i-1] != '#':\n",
    "                    sucesores.append(lista[i-1])\n",
    "                if lista[i+1] != '#':\n",
    "                    sucesores.append(lista[i+1])\n",
    "\n",
    "        # elimina acentos y mayúsculas de e\n",
    "        e = e.lower()\n",
    "        e = e.translate(trans)\n",
    "\n",
    "        model[e] = sucesores\n",
    "    return model\n",
    "\n",
    "model = buildModel()\n",
    "\n",
    "def sucesores_metro (model, estado):\n",
    "    # elimina acentos y mayúsculas de e, introduce algo de cómputo en cada llamada a sucesores\n",
    "    estado = estado.lower()\n",
    "    estado = estado.translate(trans)\n",
    "    suc = model[estado]\n",
    "    return list(set(suc)) # borra duplicados (puede haberlos en casos raros, como por ejemplo en 'Avenida de América')"
   ],
   "outputs": [],
   "execution_count": 456
  },
  {
   "cell_type": "code",
   "metadata": {
    "ExecuteTime": {
     "end_time": "2024-11-14T21:36:36.486854Z",
     "start_time": "2024-11-14T21:36:36.482392Z"
    }
   },
   "source": [
    "sucesores_metro(model, 'Avenida de América')"
   ],
   "outputs": [
    {
     "data": {
      "text/plain": [
       "['Cartagena',\n",
       " 'Gregorio Marañón',\n",
       " 'Cruz del Rayo',\n",
       " 'Diego de León',\n",
       " 'Prosperidad',\n",
       " 'Núñez de Balboa',\n",
       " 'República Argentina']"
      ]
     },
     "execution_count": 457,
     "metadata": {},
     "output_type": "execute_result"
    }
   ],
   "execution_count": 457
  },
  {
   "metadata": {},
   "cell_type": "markdown",
   "source": [
    "# Diseño de heurístico\n",
    "\n",
    "Vamos a diseñar un heurístico con 2 objetivos principales:\n",
    "\n",
    "- Cumplir la condición de minoración.\n",
    "- Acercarnos lo más posible al valor real del coste.\n",
    "\n",
    "Teniendo en cuenta que el coste se evalúa simplemente sumando 4 por transbordo y 1 por cada parada, proponemos la siguiente estrategia.\n",
    "\n",
    "#### Calculamos el mínimo número de transbordos:\n",
    "\n",
    "Generamos un grafo de las diferentes líneas donde dos líneas son \"vecinas\" si solamente hay un transbordo que permite cambiar entre ellas. De este modo, mediante exploración en el espacio de estados, podremos calcular el mínimo número de transbordos necesario para llegar de una línea a otra.\n",
    "\n",
    "Para ajustar todavía más este heurístico, pensamos que también podemos sumar la distancia hasta la primera intersección desde el nodo de partida y desde el de destino, ya que son paradas que, como mínimo, tendrás que recorrer en el caso de que sea necesario ese transbordo.\n",
    "\n",
    "Estas son las estrategias que vamos a implementar a continuación. Otras estimaciones para ajustar más este heurístico han sido consideradas, pero o no cumplían con la condición de minoración o implicaban realizar búsquedas en el modelo, cosa que queremos evitar.\n"
   ]
  },
  {
   "cell_type": "code",
   "metadata": {
    "ExecuteTime": {
     "end_time": "2024-11-14T21:36:36.780660Z",
     "start_time": "2024-11-14T21:36:36.552448Z"
    }
   },
   "source": [
    "#Este es el grafo de lineas de metro con sus correspondencias.\n",
    "\n",
    "from collections import defaultdict\n",
    "import networkx as nx\n",
    "import matplotlib.pyplot as plt\n",
    "\n",
    "grafo_lineas = defaultdict(set)\n",
    "\n",
    "for linea in range(len(todas)):\n",
    "    for parada in todas[linea]:\n",
    "        for linea_2 in range(len(todas)):\n",
    "            if parada in todas[linea] and parada in todas[linea_2]:\n",
    "                grafo_lineas[linea].add(linea_2)\n",
    "                grafo_lineas[linea_2].add(linea)\n",
    "\n",
    "G = nx.Graph()\n",
    "\n",
    "for nodo, conexiones in grafo_lineas.items():\n",
    "    for conexion in conexiones:\n",
    "        G.add_edge(nodo, conexion)\n",
    "\n",
    "\n",
    "plt.figure(figsize=(15,15))\n",
    "nx.draw(G, with_labels=True, node_color='lightblue', node_size=500, font_size=10)\n",
    "\n",
    "plt.show()"
   ],
   "outputs": [
    {
     "data": {
      "text/plain": [
       "<Figure size 1500x1500 with 1 Axes>"
      ],
      "image/png": "[encoded data removed]"
     },
     "metadata": {},
     "output_type": "display_data"
    }
   ],
   "execution_count": 458
  },
  {
   "cell_type": "code",
   "metadata": {
    "ExecuteTime": {
     "end_time": "2024-11-14T21:36:36.878791Z",
     "start_time": "2024-11-14T21:36:36.871352Z"
    }
   },
   "source": [
    "grafo_lineas"
   ],
   "outputs": [
    {
     "data": {
      "text/plain": [
       "defaultdict(set,\n",
       "            {0: {0, 1, 2, 3, 4, 5, 8, 9, 13},\n",
       "             3: {0, 1, 2, 3, 4, 5, 6, 7, 8, 9, 13},\n",
       "             13: {0, 3, 9, 13},\n",
       "             9: {0, 2, 3, 4, 5, 6, 7, 8, 9, 11, 12, 13, 14, 15, 16},\n",
       "             8: {0, 1, 3, 4, 5, 6, 7, 8, 9},\n",
       "             1: {0, 1, 2, 3, 4, 5, 6, 8, 12, 16},\n",
       "             5: {0, 1, 2, 3, 4, 5, 6, 7, 8, 9, 10, 12},\n",
       "             4: {0, 1, 2, 3, 4, 5, 6, 8, 9, 12, 17},\n",
       "             2: {0, 1, 2, 3, 4, 5, 9, 16, 17},\n",
       "             12: {1, 4, 5, 9, 12},\n",
       "             16: {1, 2, 9, 16},\n",
       "             6: {1, 3, 4, 5, 6, 8, 9},\n",
       "             17: {2, 4, 17},\n",
       "             7: {3, 5, 7, 8, 9},\n",
       "             10: {5, 10},\n",
       "             14: {9, 14, 15},\n",
       "             15: {9, 14, 15},\n",
       "             11: {9, 11}})"
      ]
     },
     "execution_count": 459,
     "metadata": {},
     "output_type": "execute_result"
    }
   ],
   "execution_count": 459
  },
  {
   "metadata": {},
   "cell_type": "markdown",
   "source": "Vamos a escribir algunas funciones que nos ayudaran a definir el heuristico descrito."
  },
  {
   "cell_type": "code",
   "metadata": {
    "ExecuteTime": {
     "end_time": "2024-11-14T21:36:36.938706Z",
     "start_time": "2024-11-14T21:36:36.932911Z"
    }
   },
   "source": [
    "from itertools import product\n",
    "\n",
    "def camino_lineas(nodo, objetivo):\n",
    "    \"\"\"Esta funcion toma una estacion origen y otra destino y te devuelve el minimo camino posible de lineas para llegar.\"\"\"\n",
    "    lineas_inicio = {i_linea for i_linea in range(len(todas)) if nodo in todas[i_linea]}\n",
    "    lineas_destino = {i_linea for i_linea in range(len(todas)) if objetivo in todas[i_linea]}\n",
    "\n",
    "    combinaciones = list(product(lineas_inicio, lineas_destino))\n",
    "\n",
    "    best_sol = []\n",
    "    \n",
    "    for l_inicio, l_destino in combinaciones:\n",
    "        sol = branch_and_bound(l_inicio, l_destino, sucesores_grafo, lambda camino: len(camino) - 1, grafo_lineas)\n",
    "\n",
    "        if sol == None:\n",
    "            sol = []\n",
    "        \n",
    "        if best_sol == None or len(best_sol) > len(sol):\n",
    "            best_sol = sol\n",
    "\n",
    "\n",
    "    if sol:\n",
    "        return sol\n",
    "    else:\n",
    "        return []\n",
    "\n",
    "\n",
    "origen = 'Estrecho'\n",
    "destino = 'Barajas'\n",
    "\n",
    "print(camino_lineas(origen, destino))"
   ],
   "outputs": [
    {
     "name": "stdout",
     "output_type": "stream",
     "text": [
      "[0, 3, 7]\n"
     ]
    }
   ],
   "execution_count": 460
  },
  {
   "metadata": {
    "ExecuteTime": {
     "end_time": "2024-11-14T21:36:37.106663Z",
     "start_time": "2024-11-14T21:36:37.102580Z"
    }
   },
   "cell_type": "code",
   "source": [
    "def get_posibles_lineas(parada):\n",
    "    \"\"\"Esta funcion devuelve el identificador de las líneas a las que pertenece una parada y nos ayuda a gestionar casos de intersecciones mas adelante\"\"\"\n",
    "    return {i for i in range(len(todas)) if parada in todas[i]}"
   ],
   "outputs": [],
   "execution_count": 461
  },
  {
   "metadata": {
    "ExecuteTime": {
     "end_time": "2024-11-14T21:36:37.166824Z",
     "start_time": "2024-11-14T21:36:37.162473Z"
    }
   },
   "cell_type": "code",
   "source": [
    "print(get_posibles_lineas(\"Portazgo\"))\n",
    "print(get_posibles_lineas(\"Tribunal\"))"
   ],
   "outputs": [
    {
     "name": "stdout",
     "output_type": "stream",
     "text": [
      "{0}\n",
      "{0, 9}\n"
     ]
    }
   ],
   "execution_count": 462
  },
  {
   "cell_type": "code",
   "metadata": {
    "ExecuteTime": {
     "end_time": "2024-11-14T21:36:37.301911Z",
     "start_time": "2024-11-14T21:36:37.294479Z"
    }
   },
   "source": [
    "def d_min_hasta_interseccion(parada_inicial):\n",
    "    \"\"\"Esta función te devuelve la distancia hasta la intersección más cercana desde una parada dada\"\"\"\n",
    "\n",
    "    def is_interseccion(parada):\n",
    "        contador_lineas = False\n",
    "\n",
    "        for linea in todas:\n",
    "            if parada in linea:\n",
    "                if not contador_lineas:\n",
    "                    contador_lineas = True\n",
    "                else:\n",
    "                    return True\n",
    "                \n",
    "        return False\n",
    "    \n",
    "    \n",
    "    min_distance = None\n",
    "    \n",
    "    for linea in get_posibles_lineas(parada_inicial):\n",
    "        i = todas[linea].index(parada_inicial)\n",
    "        \n",
    "        if is_interseccion(todas[linea][i]):\n",
    "            return 0\n",
    "        \n",
    "        for j in range(i+1, len(todas[linea])):\n",
    "            if is_interseccion(todas[linea][j]):\n",
    "                if min_distance is None or min_distance >  abs(j - i):\n",
    "                    min_distance = abs(j - i)\n",
    "                    break\n",
    "\n",
    "        for k in range(i-1, -1, -1):\n",
    "            if is_interseccion(todas[linea][k]):\n",
    "                if min_distance is None or min_distance >  abs(k - i):\n",
    "                    min_distance = abs(k - i)\n",
    "                    break\n",
    "\n",
    "    return min_distance\n",
    "\n",
    "d_min_hasta_interseccion(\"Arturo Soria\")"
   ],
   "outputs": [
    {
     "data": {
      "text/plain": [
       "3"
      ]
     },
     "execution_count": 463,
     "metadata": {},
     "output_type": "execute_result"
    }
   ],
   "execution_count": 463
  },
  {
   "cell_type": "code",
   "metadata": {
    "ExecuteTime": {
     "end_time": "2024-11-14T21:36:37.380863Z",
     "start_time": "2024-11-14T21:36:37.377703Z"
    }
   },
   "source": [
    "def is_interseccion(parada):\n",
    "    #Esta función devuelve True o False en función de si la parada que le pasas es o no una intersección\n",
    "        contador_lineas = False\n",
    "\n",
    "        for linea in todas:\n",
    "            if parada in linea:\n",
    "                if not contador_lineas:\n",
    "                    contador_lineas = True\n",
    "                else:\n",
    "                    return True\n",
    "                \n",
    "        return False\n"
   ],
   "outputs": [],
   "execution_count": 464
  },
  {
   "cell_type": "code",
   "metadata": {
    "ExecuteTime": {
     "end_time": "2024-11-14T21:36:37.436035Z",
     "start_time": "2024-11-14T21:36:37.431670Z"
    }
   },
   "source": [
    "def heuristico_metro (nodo, objetivo):\n",
    "    \"\"\"Finalmente tenemos todos los elementos necesarios para poder definir el heuristico que hemos descrito\"\"\"\n",
    "\n",
    "    if interseccion := (get_posibles_lineas(origen) & get_posibles_lineas(destino)):\n",
    "        h = None\n",
    "        for parada in todas[list(interseccion)[0]]:\n",
    "            if parada in [nodo, objetivo]:\n",
    "                if h == None:\n",
    "                    h = 0\n",
    "                else:\n",
    "                    return h\n",
    "            if h is not None:\n",
    "                h += 1\n",
    "    else:\n",
    "        return (len(camino_lineas(nodo, objetivo)) - 1) * 6 +\\\n",
    "            d_min_hasta_interseccion(nodo) +\\\n",
    "            d_min_hasta_interseccion(objetivo)\n",
    "    \n",
    "    return 0"
   ],
   "outputs": [],
   "execution_count": 465
  },
  {
   "metadata": {
    "ExecuteTime": {
     "end_time": "2024-11-14T21:36:37.464474Z",
     "start_time": "2024-11-14T21:36:37.458830Z"
    }
   },
   "cell_type": "code",
   "source": [
    "#Estos Test cases ilustran el funcionamiento\n",
    "\n",
    "print(heuristico_metro(\"Sol\", \"Portazgo\"))\n",
    "print(heuristico_metro(\"Sol\", \"Nuevo Mundo\"))\n",
    "print(heuristico_metro(\"Prado del Rey\", 'Alonso de Mendoza'))"
   ],
   "outputs": [
    {
     "name": "stdout",
     "output_type": "stream",
     "text": [
      "9\n",
      "24\n",
      "31\n"
     ]
    }
   ],
   "execution_count": 466
  },
  {
   "cell_type": "code",
   "metadata": {
    "ExecuteTime": {
     "end_time": "2024-11-14T21:38:58.561067Z",
     "start_time": "2024-11-14T21:38:58.374149Z"
    }
   },
   "source": [
    "def coste_metro (camino):\n",
    "    coste = 0\n",
    "    \n",
    "    for i, parada in enumerate(camino):\n",
    "        if i == 0:\n",
    "            #En la primera parada sacamos el conjunto de posibles líneas en als que podemos estar\n",
    "            posibles_lineas_inicio = get_posibles_lineas(parada)\n",
    "        elif i == 1:\n",
    "            #Aquí a calcular la intersección tenemos que el conjunto de posibles líneas tiene la parada en la que estamos efectivamente\n",
    "            coste += 1\n",
    "            posibles_lineas = (get_posibles_lineas(parada) & posibles_lineas_inicio)\n",
    "        else:\n",
    "            #Con estas medidas anteriores podemos detectar un transbordo intersectando la línea en la que sabemos que estamos con las de la nueva parada\n",
    "            #de modo que si la intersección es nula hemos cambiado de línea.\n",
    "            if (get_posibles_lineas(parada) & posibles_lineas):\n",
    "                coste += 1\n",
    "            else:\n",
    "                coste += 5\n",
    "                #Aquí actualizamos las posibles líneas en caso de transbordo\n",
    "                posibles_lineas = (get_posibles_lineas(parada) & get_posibles_lineas(camino[i - 1]))\n",
    "\n",
    "    return coste\n",
    "\n",
    "\n",
    "origen = 'Pirámides'\n",
    "destino = \"Ríos Rosas\"\n",
    "\n",
    "sol = a_estrella(origen, destino, sucesores_metro, coste_metro, heuristico_metro, model)\n",
    "\n",
    "''' debe dar\n",
    "Pirámides\n",
    "Acacias\n",
    "Puerta de Toledo\n",
    "La Latina\n",
    "Ópera\n",
    "Callao\n",
    "Gran Vía\n",
    "Tribunal\n",
    "Bilbao\n",
    "Iglesia\n",
    "Ríos Rosas\n",
    "Coste total: 14\n",
    "Transbordos: 1\n",
    "'''\n",
    "\n",
    "print(sol)\n",
    "print(coste_metro(sol))\n",
    "print(f\"Numero de transordos: {int((coste_metro(sol) - len(sol) + 2) / 5)}\")"
   ],
   "outputs": [
    {
     "name": "stdout",
     "output_type": "stream",
     "text": [
      "['Pirámides', 'Acacias', 'Puerta de Toledo', 'La Latina', 'Ópera', 'Callao', 'Gran Vía', 'Tribunal', 'Bilbao', 'Iglesia', 'Ríos Rosas']\n",
      "14\n",
      "Numero de transordos: 1\n"
     ]
    }
   ],
   "execution_count": 480
  },
  {
   "metadata": {
    "ExecuteTime": {
     "end_time": "2024-11-14T21:42:11.089339Z",
     "start_time": "2024-11-14T21:42:10.977380Z"
    }
   },
   "cell_type": "code",
   "source": [
    "origen = 'Atocha'\n",
    "destino = \"Principe Pío\"\n",
    "\n",
    "sol = a_estrella(origen, destino, sucesores_metro, coste_metro, heuristico_metro, model)\n",
    "\n",
    "print(sol)\n",
    "print(coste_metro(sol))\n",
    "print(f\"Numero de transordos: {int((coste_metro(sol) - len(sol) + 2) / 5)}\")"
   ],
   "outputs": [
    {
     "name": "stdout",
     "output_type": "stream",
     "text": [
      "['Atocha', 'Atocha Renfe', 'Menéndez Pelayo', 'Pacífico', 'Méndez Álvaro', 'Arganzuela - Planetario', 'Legazpi', 'Usera', 'Plaza Elíptica', 'Opañel', 'Oporto', 'Carpetana', 'Laguna', 'Lucero', 'Alto de Extremadura', 'Puerta del Ángel', 'Principe Pío']\n",
      "20\n",
      "Numero de transordos: 1\n"
     ]
    }
   ],
   "execution_count": 488
  },
  {
   "metadata": {},
   "cell_type": "markdown",
   "source": "# Problemas de las vasijas"
  },
  {
   "cell_type": "code",
   "metadata": {
    "collapsed": true,
    "jupyter": {
     "outputs_hidden": true
    },
    "tags": [],
    "ExecuteTime": {
     "end_time": "2024-11-14T21:36:37.778579Z",
     "start_time": "2024-11-14T21:36:37.772476Z"
    }
   },
   "source": [
    "#Primero implementamos una clase problema que implemente las condiciones del problema, pero sin funcionalidad.\n",
    "\n",
    "class Problema:\n",
    "    def __init__(self, c0, c1, objetivo):\n",
    "        self.c0 = c0\n",
    "        self.c1 = c1\n",
    "        self.a0 = 0\n",
    "        self.a1 = 0\n",
    "        self.objetivo = objetivo\n",
    "        self.historial = []\n",
    "\n",
    "    def __append_historial(self):\n",
    "        self.historial.append((self.a0, self.a1))\n",
    "\n",
    "    def llenar(self, i):\n",
    "        if i == 0:\n",
    "            self.a0 = self.c0\n",
    "        else:\n",
    "            self.a1 = self.c1\n",
    "\n",
    "        self.__append_historial()\n",
    "        \n",
    "\n",
    "    def vaciar(self, i):\n",
    "        if i == 0:\n",
    "            self.a0 = 0\n",
    "        else:\n",
    "            self.a1 = 0\n",
    "\n",
    "        self.__append_historial()\n",
    "\n",
    "    def volcar(self, i):\n",
    "        if i == 0:\n",
    "            diferencia = min(self.a0, self.c1 - self.a1)\n",
    "            self.a0 -= diferencia\n",
    "            self.a1 += diferencia\n",
    "        else:\n",
    "            diferencia = min(self.a1, self.c0 - self.a0)\n",
    "            self.a1 -= diferencia\n",
    "            self.a0 += diferencia\n",
    "\n",
    "        self.__append_historial()\n",
    "\n",
    "    def __str__(self):\n",
    "        \n",
    "        string = \"\"\n",
    "\n",
    "        for i, movimiento in enumerate(self.historial):\n",
    "\n",
    "            string += f\"{i + 1}) \" + \"|\" + \"#\" * movimiento[0] + \" \" * (self.c0 - movimiento[0]) +\"|\" + \"|\" + \"#\" * movimiento[1] + \" \" * (self.c1 - movimiento[1]) +\"|\\n\\n\" \n",
    "\n",
    "        return string\n",
    "\n",
    "            \n"
   ],
   "outputs": [],
   "execution_count": 469
  },
  {
   "cell_type": "code",
   "metadata": {
    "ExecuteTime": {
     "end_time": "2024-11-14T21:43:04.740543Z",
     "start_time": "2024-11-14T21:43:04.736526Z"
    }
   },
   "source": [
    "#Testeamos y vemos que ya podemos interactuar con el problema\n",
    "\n",
    "p = Problema(3, 4, 2)\n",
    "p.llenar(0)\n",
    "p.volcar(0)\n",
    "print(p)\n"
   ],
   "outputs": [
    {
     "name": "stdout",
     "output_type": "stream",
     "text": [
      "1) |###||    |\n",
      "\n",
      "2) |   ||### |\n",
      "\n",
      "\n"
     ]
    }
   ],
   "execution_count": 491
  },
  {
   "cell_type": "code",
   "metadata": {
    "ExecuteTime": {
     "end_time": "2024-11-14T21:36:37.860279Z",
     "start_time": "2024-11-14T21:36:37.850771Z"
    }
   },
   "source": [
    "from copy import deepcopy\n",
    "from itertools import combinations\n",
    "\n",
    "class Estado:\n",
    "    \"\"\"Cada uno de los nodos de nuestra usqueda la hemos llamado estado, de un estado se puede recuperar tanto coste como sucesores, que seran a su vez Estados\"\"\"\n",
    "    \n",
    "    def __init__(self, problema: Problema, coste):\n",
    "        self.problema = problema\n",
    "        self.coste = coste\n",
    "    \n",
    "    def generar_sucesores(self):\n",
    "        problema_copia_0 = deepcopy(self.problema)\n",
    "        problema_copia_0.llenar(0)\n",
    "\n",
    "        problema_copia_1 = deepcopy(self.problema)\n",
    "        problema_copia_1.llenar(1)\n",
    "\n",
    "        problema_copia_2 = deepcopy(self.problema)\n",
    "        problema_copia_2.vaciar(0)\n",
    "\n",
    "        problema_copia_3 = deepcopy(self.problema)\n",
    "        problema_copia_3.vaciar(1)\n",
    "\n",
    "        problema_copia_4 = deepcopy(self.problema)\n",
    "        problema_copia_4.volcar(0)\n",
    "\n",
    "        problema_copia_5 = deepcopy(self.problema)\n",
    "        problema_copia_5.volcar(1)\n",
    "\n",
    "        return [Estado(problema_copia_0, self.coste + 1),\n",
    "                Estado(problema_copia_1, self.coste + 1),\n",
    "                Estado(problema_copia_2, self.coste + 1),\n",
    "                Estado(problema_copia_3, self.coste + 1),\n",
    "                Estado(problema_copia_4, self.coste + 1),\n",
    "                Estado(problema_copia_5, self.coste + 1)]\n",
    "    \n",
    "    def is_sol(self):\n",
    "        return (self.problema.a0 == self.problema.objetivo) or (self.problema.a1 == self.problema.objetivo)\n",
    "\n",
    "    def __eq__(self, value):\n",
    "        return self.problema.a0 == value.problema.a0 and self.problema.a1 == value.problema.a1\n",
    "\n",
    "\n",
    "class Solucion_problema:\n",
    "    \"\"\"Después de esta preparacion solamente elegimos en algoritmo ranch and bound para hacer la busqueda en espacios de estado\"\"\"\n",
    "    \n",
    "    def __init__(self, c0, c1, objetivo):\n",
    "        self.problema = Problema(c0, c1, objetivo)\n",
    "\n",
    "    def solucionar(self):\n",
    "\n",
    "        def poda(estados):\n",
    "            i_lista_eliminar = set()\n",
    "            \n",
    "            combinaciones = combinations([(estado, i) for i, estado in enumerate(estados)], r=2)\n",
    "\n",
    "            for e1, e2 in combinaciones:\n",
    "                if e1[0] == e2[0]:\n",
    "                    if e1[0].coste < e2[0].coste:\n",
    "                        i_lista_eliminar.add(e2[1])\n",
    "                    else:\n",
    "                        i_lista_eliminar.add(e1[1])\n",
    "\n",
    "\n",
    "            for i in sorted(i_lista_eliminar, reverse=True):\n",
    "                estados.pop(i)\n",
    "                        \n",
    "\n",
    "\n",
    "        estado_inicial = Estado(self.problema, 0)\n",
    "        estados = [estado_inicial]\n",
    "        encontrado = False\n",
    "        resul = None\n",
    "\n",
    "        while estados and not encontrado:\n",
    "            estados.sort(key = lambda x: x.coste)\n",
    "            poda(estados)\n",
    "\n",
    "            expansiones = estados[0].generar_sucesores()\n",
    "            \n",
    "                    \n",
    "            for expansion in expansiones:\n",
    "                if expansion.is_sol():\n",
    "                    encontrado = True\n",
    "                    resul = expansion\n",
    "                    break\n",
    "\n",
    "        \n",
    "            estados = estados[1:] + expansiones\n",
    "\n",
    "        \n",
    "        if resul is not None:\n",
    "            return resul.problema\n",
    "        else:\n",
    "            return None"
   ],
   "outputs": [],
   "execution_count": 471
  },
  {
   "cell_type": "code",
   "metadata": {
    "ExecuteTime": {
     "end_time": "2024-11-14T21:51:55.226128Z",
     "start_time": "2024-11-14T21:51:55.197411Z"
    }
   },
   "source": [
    "#Como se puede ver el programa funciona sin problemas.\n",
    "\n",
    "capacidad_v_1 = 9\n",
    "capacidad_v_2 = 5\n",
    "ojetivo = 7\n",
    "\n",
    "solucion = Solucion_problema(capacidad_v_1, capacidad_v_2, ojetivo)\n",
    "p_resuelto = solucion.solucionar()\n",
    "print(p_resuelto)\n"
   ],
   "outputs": [
    {
     "name": "stdout",
     "output_type": "stream",
     "text": [
      "1) |#########||     |\n",
      "\n",
      "2) |####     ||#####|\n",
      "\n",
      "3) |####     ||     |\n",
      "\n",
      "4) |         ||#### |\n",
      "\n",
      "5) |#########||#### |\n",
      "\n",
      "6) |######## ||#####|\n",
      "\n",
      "7) |######## ||     |\n",
      "\n",
      "8) |###      ||#####|\n",
      "\n",
      "9) |###      ||     |\n",
      "\n",
      "10) |         ||###  |\n",
      "\n",
      "11) |#########||###  |\n",
      "\n",
      "12) |#######  ||#####|\n",
      "\n",
      "\n"
     ]
    }
   ],
   "execution_count": 494
  },
  {
   "cell_type": "markdown",
   "metadata": {},
   "source": [
    "### 8-puzzle (opcional)\n",
    "\n",
    "![SNOWFALL](https://www.researchgate.net/profile/Ruo-Ando/publication/347300656/figure/fig1/AS:969204928901121@1608087870493/Initial-state-and-goal-state-of-8-puzzle_W640.jpg) \n",
    "\n",
    "  * Los estados se representarán como listas de listas.\n",
    "  * La función sucesores, dado un estado, deberá devolver los estados a los que se puede pasar moviendo fichas adyacentes a la casilla vacía.\n",
    "  * Como coste usar el menor número de pasos.\n",
    "  * Idea para heurístico: la distancia de la posición actual de cada pieza a la posición q  ue debe ocupar en el objetivo."
   ]
  },
  {
   "cell_type": "code",
   "metadata": {
    "ExecuteTime": {
     "end_time": "2024-11-14T21:36:37.915451Z",
     "start_time": "2024-11-14T21:36:37.911745Z"
    }
   },
   "source": [
    "objetivo = [[1, 2, 3], [4, 5, 6], [7, 8, 0]] # el 0 re4presenta la casilla vacía\n",
    "\n",
    "inicio = [[1, 0, 3], [4, 2, 5], [7, 8, 6]] # 3 pasos\n",
    "#inicio = [[4, 1, 3], [7, 2, 5], [0, 8, 6]] # 6 pasos\n",
    "#inicio = [[3, 1, 6], [2, 5, 4], [7, 8, 0]] # 14 pasos\n",
    "#inicio = [[0, 4, 1], [3, 7, 2], [5, 8, 6]] # 18 pasos\n",
    "#inicio = [[0, 2, 5], [3, 8, 6], [4, 1, 7]] # 22 pasos\n",
    "#inicio = [[0, 3, 7], [1, 8, 5], [6, 4, 2]] # 22 pasos"
   ],
   "outputs": [],
   "execution_count": 473
  },
  {
   "metadata": {},
   "cell_type": "markdown",
   "source": "De igual manera que hicimos antes en este caso vamos a definir el problema de modo que podemos interactuar con el, e implementamos todos los metodos que nos van a ser útiles."
  },
  {
   "cell_type": "code",
   "metadata": {
    "ExecuteTime": {
     "end_time": "2024-11-14T22:00:24.810692Z",
     "start_time": "2024-11-14T22:00:24.799338Z"
    }
   },
   "source": [
    "from copy import deepcopy\n",
    "from random import choice\n",
    "from time import sleep\n",
    "\n",
    "class Tablero():\n",
    "    def __init__(self, n):\n",
    "\n",
    "        self.n = n\n",
    "\n",
    "        matriz = [[f\"{i}{j}\" for j in range(self.n)] for i in range(self.n)]\n",
    "        matriz[n - 1][n - 1] = None\n",
    "        self.matriz = matriz\n",
    "\n",
    "        self.solved_matriz = deepcopy(matriz)\n",
    "\n",
    "        self.pos_None = (n-1, n-1)\n",
    "\n",
    "\n",
    "    def ejecutar_movimiento(self, mov:str):\n",
    "        assert mov.upper() in [\"U\", \"D\", \"R\", \"L\"], \"el movimiento no es valido\"\n",
    "\n",
    "        match mov.upper():\n",
    "            case \"U\":\n",
    "                target_pos = (self.pos_None[0] + 1, self.pos_None[1])\n",
    "            case \"D\":\n",
    "                target_pos = (self.pos_None[0] - 1, self.pos_None[1])\n",
    "            case \"L\":\n",
    "                target_pos = (self.pos_None[0], self.pos_None[1] + 1)\n",
    "            case \"R\":\n",
    "                target_pos = (self.pos_None[0], self.pos_None[1] - 1)\n",
    "            case _:\n",
    "                raise Exception(\"Algo falla con al procesado del movimiento seleccionado\")\n",
    "\n",
    "\n",
    "        if target_pos[0] in range(self.n) and target_pos[1] in range(self.n):\n",
    "            self.matriz[target_pos[0]][target_pos[1]], self.matriz[self.pos_None[0]][self.pos_None[1]] = self.matriz[self.pos_None[0]][self.pos_None[1]], self.matriz[target_pos[0]][target_pos[1]]\n",
    "            self.pos_None = target_pos\n",
    "        else:\n",
    "            raise Exception(\"El movimiento no es valido\")\n",
    "\n",
    "    def ejecutar_secuencia(self, secuencia:list, do_print = False, errors = \"ignore\"):\n",
    "\n",
    "        for elemento in secuencia:\n",
    "            try:\n",
    "                self.ejecutar_movimiento(elemento)\n",
    "                if do_print:\n",
    "                    sleep(0.4)\n",
    "                    print(elemento)\n",
    "\n",
    "                    print(self)\n",
    "            except:\n",
    "                match errors:\n",
    "                    case \"ignore\":\n",
    "                        pass\n",
    "                    case \"print\":\n",
    "                        print(f\"{elemento} fallo al ejecutar una secuencia de movimientos\")\n",
    "\n",
    "\n",
    "    def deshecer_tablero(self, n_movimiento:int):\n",
    "        #comprobar que los movimientos sean factibles\n",
    "        bag = [\"U\", \"D\", \"R\", \"L\"]\n",
    "        scramble = []\n",
    "\n",
    "        for movimiento in range(n_movimiento):\n",
    "            eleccion = choice(bag)\n",
    "            scramble.append(eleccion)\n",
    "\n",
    "        self.ejecutar_secuencia(scramble)\n",
    "\n",
    "    def movimientos_posibles(self):\n",
    "        movimientos = []\n",
    "\n",
    "        if self.pos_None[0] != 0:\n",
    "            movimientos.append(\"D\")\n",
    "        if self.pos_None[1] != 0:\n",
    "            movimientos.append(\"R\")\n",
    "        if self.pos_None[0] != self.n - 1:\n",
    "            movimientos.append(\"U\")\n",
    "        if self.pos_None[1] != self.n - 1:\n",
    "            movimientos.append(\"L\")\n",
    "\n",
    "        return movimientos\n",
    "\n",
    "    def is_solved(self):\n",
    "        return self.matriz == self.solved_matriz\n",
    "\n",
    "    def bool_solved(self):\n",
    "        bool_matrix = [[False for _ in range(self.n)] for _ in range(self.n)]\n",
    "\n",
    "        for i in range(self.n):\n",
    "            for j in range(self.n):\n",
    "                if self.solved_matriz[i][j] == self.matriz[i][j]:\n",
    "                    bool_matrix[i][j] = True\n",
    "\n",
    "        return bool_matrix\n",
    "\n",
    "    def __str__(self):\n",
    "        representacion = \"\"\n",
    "\n",
    "        for i in range(self.n):\n",
    "            for j in range(self.n):\n",
    "                if (element := self.matriz[i][j]) == None:\n",
    "                    representacion += \" \" * 4\n",
    "                else:\n",
    "                    representacion += f\"{element:^4}\"\n",
    "            representacion += \"\\n\"\n",
    "\n",
    "        return representacion\n",
    "\n",
    "    def __repr__(self):\n",
    "        return str(self)"
   ],
   "outputs": [],
   "execution_count": 498
  },
  {
   "metadata": {},
   "cell_type": "markdown",
   "source": "En este caso, hemos cambiado el método de resolución: debido a las condiciones del problema, en vez de evaluar movimientos evaluamos \"subsecuencias\". Primero, buscamos recursivamente la subsecuencia de profundidad *p* más prometedora, y después cambiamos el estado del problema. De este modo, el algoritmo desarrolla secuencias más largas. Además, este tipo de puzles se suelen resolver mediante reducción. En este caso, esto significa resolver primero un borde y reducir un puzle de 3 x 3 a uno de 2 x 2. Adaptamos entonces el heurístico para guiar este comportamiento. Así conseguimos que el algoritmo desarrolle secuencias y siga un método coherente a la hora de la resolución.\n"
  },
  {
   "metadata": {
    "ExecuteTime": {
     "end_time": "2024-11-14T21:53:27.129254Z",
     "start_time": "2024-11-14T21:53:27.119870Z"
    }
   },
   "cell_type": "code",
   "source": [
    "class Puzle_8_ia(Tablero):\n",
    "    def __init__(self):\n",
    "        super().__init__(3)\n",
    "        self.secuencia_sol = []\n",
    "\n",
    "    @property\n",
    "    def valor_euristico(self):\n",
    "        #solo premiamos el suproblema 2 x 2 si el resto esta resuelto\n",
    "        \n",
    "        resueltas_borde = 0\n",
    "        resueltas_interior = 0\n",
    "\n",
    "        for i in range(self.n):\n",
    "            for j in range(self.n):\n",
    "                if self.bool_solved()[i][j]:\n",
    "                    if i == 0 or j == 0:\n",
    "                        resueltas_borde += 1\n",
    "                    else:\n",
    "                        resueltas_interior += 1\n",
    "\n",
    "        if resueltas_borde == 5:\n",
    "            return resueltas_interior + resueltas_borde\n",
    "        else:\n",
    "            return resueltas_borde\n",
    "\n",
    "\n",
    "\n",
    "    def resolver_tablero(self, do_print = True):\n",
    "\n",
    "        secuencia_sol = []\n",
    "        copia_tablero = deepcopy(self)\n",
    "\n",
    "        def r_buscar_mejor(tablero, profundidad = 15, secuencia_parcial = (), nivel_profunidad = 0):\n",
    "            #Este es el algoritmo recursivo que encuentra la mejor susecuencia con la prfundidad deseada y que en caso de empate premia la mas corta.\n",
    "\n",
    "            dic_contrarios = {\n",
    "                \"U\" : \"D\",\n",
    "                \"D\" : \"U\",\n",
    "                \"L\" : \"R\",\n",
    "                \"R\" : \"L\",\n",
    "            }\n",
    "\n",
    "            if nivel_profunidad == profundidad:\n",
    "                return (secuencia_parcial, tablero.valor_euristico)\n",
    "            else:\n",
    "                movimientos_posibles = tablero.movimientos_posibles()\n",
    "\n",
    "                if secuencia_parcial:\n",
    "                    movimientos_posibles.remove(dic_contrarios[secuencia_parcial[-1]])\n",
    "\n",
    "                resultados_recursivos = []\n",
    "\n",
    "                for movimiento in movimientos_posibles:\n",
    "                    copia_tablero = deepcopy(tablero)\n",
    "                    copia_tablero.ejecutar_movimiento(movimiento)\n",
    "\n",
    "                    resultados_recursivos.append(r_buscar_mejor(copia_tablero, profundidad, secuencia_parcial + (movimiento,), nivel_profunidad + 1))\n",
    "\n",
    "                maximo_capa_debajo = max(resultados_recursivos, key=lambda x:x[1])\n",
    "\n",
    "                if maximo_capa_debajo[1] > tablero.valor_euristico:\n",
    "                    return maximo_capa_debajo\n",
    "                else:\n",
    "                    return (secuencia_parcial, tablero.valor_euristico)\n",
    "\n",
    "        while copia_tablero.is_solved() == False:\n",
    "            chunk_secuencia, heuristica = r_buscar_mejor(copia_tablero)\n",
    "            print(\"Secuencia parcial:\")\n",
    "            print(chunk_secuencia)\n",
    "            print(\"Valor del euristico tras aplicar las secuencias parciales\")\n",
    "            print(heuristica)\n",
    "            copia_tablero.ejecutar_secuencia(chunk_secuencia)\n",
    "            secuencia_sol += list(chunk_secuencia)\n",
    "\n",
    "        return secuencia_sol\n",
    "\n",
    "    def demostracion(self):\n",
    "\n",
    "        self.deshecer_tablero(1000)\n",
    "        print(\"Tablero deshecho\")\n",
    "        print(self)\n",
    "\n",
    "        sol = self.resolver_tablero()\n",
    "        print(\"Solucion encontrada: \")\n",
    "        print(sol)\n",
    "        self.ejecutar_secuencia(sol, do_print=True)"
   ],
   "outputs": [],
   "execution_count": 497
  },
  {
   "metadata": {},
   "cell_type": "markdown",
   "source": "A continuacion se muestra la informacion de proceso de solucionado la solucion encontrada y una visualizacion paso a paso de la misma."
  },
  {
   "cell_type": "code",
   "metadata": {
    "ExecuteTime": {
     "end_time": "2024-11-14T22:04:06.814997Z",
     "start_time": "2024-11-14T22:03:53.158213Z"
    }
   },
   "source": [
    "t = Puzle_8_ia()\n",
    "t.demostracion()"
   ],
   "outputs": [
    {
     "name": "stdout",
     "output_type": "stream",
     "text": [
      "Tablero deshecho\n",
      " 11  10     \n",
      " 00  12  02 \n",
      " 01  20  21 \n",
      "\n",
      "Secuencia parcial:\n",
      "('U', 'R', 'R', 'D', 'L', 'U', 'R', 'U', 'L', 'D', 'R', 'D', 'L', 'U', 'U')\n",
      "Valor del euristico tras aplicar las secuencias parciales\n",
      "7\n",
      "Secuencia parcial:\n",
      "('D', 'D', 'R', 'U', 'L', 'D', 'R', 'U', 'L', 'D', 'R', 'U', 'L', 'U', 'L')\n",
      "Valor del euristico tras aplicar las secuencias parciales\n",
      "9\n",
      "Solucion encontrada: \n",
      "['U', 'R', 'R', 'D', 'L', 'U', 'R', 'U', 'L', 'D', 'R', 'D', 'L', 'U', 'U', 'D', 'D', 'R', 'U', 'L', 'D', 'R', 'U', 'L', 'D', 'R', 'U', 'L', 'U', 'L']\n",
      "U\n",
      " 11  10  02 \n",
      " 00  12     \n",
      " 01  20  21 \n",
      "\n",
      "R\n",
      " 11  10  02 \n",
      " 00      12 \n",
      " 01  20  21 \n",
      "\n",
      "R\n",
      " 11  10  02 \n",
      "     00  12 \n",
      " 01  20  21 \n",
      "\n",
      "D\n",
      "     10  02 \n",
      " 11  00  12 \n",
      " 01  20  21 \n",
      "\n",
      "L\n",
      " 10      02 \n",
      " 11  00  12 \n",
      " 01  20  21 \n",
      "\n",
      "U\n",
      " 10  00  02 \n",
      " 11      12 \n",
      " 01  20  21 \n",
      "\n",
      "R\n",
      " 10  00  02 \n",
      "     11  12 \n",
      " 01  20  21 \n",
      "\n",
      "U\n",
      " 10  00  02 \n",
      " 01  11  12 \n",
      "     20  21 \n",
      "\n",
      "L\n",
      " 10  00  02 \n",
      " 01  11  12 \n",
      " 20      21 \n",
      "\n",
      "D\n",
      " 10  00  02 \n",
      " 01      12 \n",
      " 20  11  21 \n",
      "\n",
      "R\n",
      " 10  00  02 \n",
      "     01  12 \n",
      " 20  11  21 \n",
      "\n",
      "D\n",
      "     00  02 \n",
      " 10  01  12 \n",
      " 20  11  21 \n",
      "\n",
      "L\n",
      " 00      02 \n",
      " 10  01  12 \n",
      " 20  11  21 \n",
      "\n",
      "U\n",
      " 00  01  02 \n",
      " 10      12 \n",
      " 20  11  21 \n",
      "\n",
      "U\n",
      " 00  01  02 \n",
      " 10  11  12 \n",
      " 20      21 \n",
      "\n",
      "D\n",
      " 00  01  02 \n",
      " 10      12 \n",
      " 20  11  21 \n",
      "\n",
      "D\n",
      " 00      02 \n",
      " 10  01  12 \n",
      " 20  11  21 \n",
      "\n",
      "R\n",
      "     00  02 \n",
      " 10  01  12 \n",
      " 20  11  21 \n",
      "\n",
      "U\n",
      " 10  00  02 \n",
      "     01  12 \n",
      " 20  11  21 \n",
      "\n",
      "L\n",
      " 10  00  02 \n",
      " 01      12 \n",
      " 20  11  21 \n",
      "\n",
      "D\n",
      " 10      02 \n",
      " 01  00  12 \n",
      " 20  11  21 \n",
      "\n",
      "R\n",
      "     10  02 \n",
      " 01  00  12 \n",
      " 20  11  21 \n",
      "\n",
      "U\n",
      " 01  10  02 \n",
      "     00  12 \n",
      " 20  11  21 \n",
      "\n",
      "L\n",
      " 01  10  02 \n",
      " 00      12 \n",
      " 20  11  21 \n",
      "\n",
      "D\n",
      " 01      02 \n",
      " 00  10  12 \n",
      " 20  11  21 \n",
      "\n",
      "R\n",
      "     01  02 \n",
      " 00  10  12 \n",
      " 20  11  21 \n",
      "\n",
      "U\n",
      " 00  01  02 \n",
      "     10  12 \n",
      " 20  11  21 \n",
      "\n",
      "L\n",
      " 00  01  02 \n",
      " 10      12 \n",
      " 20  11  21 \n",
      "\n",
      "U\n",
      " 00  01  02 \n",
      " 10  11  12 \n",
      " 20      21 \n",
      "\n",
      "L\n",
      " 00  01  02 \n",
      " 10  11  12 \n",
      " 20  21     \n",
      "\n"
     ]
    }
   ],
   "execution_count": 500
  },
  {
   "cell_type": "markdown",
   "metadata": {},
   "source": [
    "### Actividad opcional\n",
    "\n",
    "Desarrollar una clase \"Busqueda\" que unifique dentro todos los algoritmos que hemos implementado en funciones independientes.\n",
    "\n",
    "Para ello se especificarán en el constructor (__init__) las funciones dependientes del problema, es decir, sucesores, heurístico y coste, y de este modo no habrá que pasarlos como argumento a los algoritmos, sino sólo inicio y objetivo, quedando el código mucho más limpio.\n",
    "\n",
    "Por ejemplo, el uso de esta clase sería algo así:\n"
   ]
  },
  {
   "metadata": {
    "ExecuteTime": {
     "end_time": "2024-11-14T22:04:19.585626Z",
     "start_time": "2024-11-14T22:04:19.573371Z"
    }
   },
   "cell_type": "code",
   "source": [
    "class Busqueda:\n",
    "    def _init_(self, sucesores, grafo, heuristico=None, coste=None):\n",
    "        \"\"\"\n",
    "        Inicializa la clase con el grafo y las funciones de sucesores, heurística y coste.\n",
    "        \n",
    "        sucesores: Función que devuelve los sucesores de un nodo.\n",
    "        grafo: Estructura que representa el grafo.\n",
    "        heuristico: Función de heurística (opcional).\n",
    "        coste: Función de coste para calcular el coste del camino (opcional).\n",
    "        \"\"\"\n",
    "        self.sucesores = sucesores\n",
    "        self.grafo = grafo\n",
    "        self.heuristico = heuristico\n",
    "        self.coste = coste\n",
    "        \n",
    "    def expandir(self, camino):\n",
    "        return [camino + [sucesor] for sucesor in self.sucesores(self.grafo, camino[-1]) if sucesor not in camino]\n",
    "\n",
    "    def profundidad(self, n0, nf):\n",
    "        resul = None\n",
    "        lista_caminos = [[n0]]\n",
    "        encontrado = False\n",
    "\n",
    "        while lista_caminos and not encontrado:\n",
    "            expansiones = self.expandir(lista_caminos[0])\n",
    "            for expansion in expansiones:\n",
    "                if expansion[-1] == nf:\n",
    "                    encontrado = True\n",
    "                    resul = expansion\n",
    "                    break\n",
    "            lista_caminos = expansiones + lista_caminos[1:]\n",
    "        \n",
    "        return resul\n",
    "\n",
    "    def amplitud(self, n0, nf):\n",
    "        resul = None\n",
    "        lista_caminos = [[n0]]\n",
    "        encontrado = False\n",
    "\n",
    "        while lista_caminos and not encontrado:\n",
    "            expansiones = self.expandir(lista_caminos[0])\n",
    "            for expansion in expansiones:\n",
    "                if expansion[-1] == nf:\n",
    "                    encontrado = True\n",
    "                    resul = expansion\n",
    "                    break\n",
    "            lista_caminos = lista_caminos[1:] + expansiones\n",
    "        \n",
    "        return resul\n",
    "\n",
    "    def escalada(self, n0, nf):\n",
    "        if self.heuristico is None:\n",
    "            raise ValueError(\"Se requiere una función de heurística para el algoritmo de escalada.\")\n",
    "        \n",
    "        resul = None\n",
    "        lista_caminos = [[n0]]\n",
    "        encontrado = False\n",
    "\n",
    "        while lista_caminos and not encontrado:\n",
    "            expansiones = self.expandir(lista_caminos[0])\n",
    "            for expansion in expansiones:\n",
    "                if expansion[-1] == nf:\n",
    "                    encontrado = True\n",
    "                    resul = expansion\n",
    "                    break\n",
    "            expansiones.sort(key=lambda x: self.heuristico(x[-1], nf))\n",
    "            lista_caminos = expansiones + lista_caminos[1:]\n",
    "        \n",
    "        return resul\n",
    "\n",
    "    def primero_el_mejor(self, n0, nf):\n",
    "        if self.heuristico is None:\n",
    "            raise ValueError(\"Se requiere una función de heurística para el algoritmo primero el mejor.\")\n",
    "        \n",
    "        resul = None\n",
    "        lista_caminos = [[n0]]\n",
    "        encontrado = False\n",
    "\n",
    "        while lista_caminos and not encontrado:\n",
    "            expansiones = self.expandir(lista_caminos[0])\n",
    "            for expansion in expansiones:\n",
    "                if expansion[-1] == nf:\n",
    "                    encontrado = True\n",
    "                    resul = expansion\n",
    "                    break\n",
    "            lista_caminos = expansiones + lista_caminos[1:]\n",
    "            lista_caminos.sort(key=lambda x: self.heuristico(x[-1], nf))\n",
    "        \n",
    "        return resul\n",
    "\n",
    "    def poda(self, caminos):\n",
    "        diccionario = {}\n",
    "        indices_a_podar = []\n",
    "        \n",
    "        for i, camino in enumerate(caminos):\n",
    "            if not diccionario.get(camino[-1]):\n",
    "                diccionario[camino[-1]] = (self.coste(camino), i)\n",
    "            else:\n",
    "                if self.coste(camino) < diccionario[camino[-1]][0]:\n",
    "                    indices_a_podar.append(diccionario[camino[-1]][1])\n",
    "                    diccionario[camino[-1]] = (self.coste(camino), i)\n",
    "                else:\n",
    "                    indices_a_podar.append(i)\n",
    "\n",
    "        for indice in sorted(indices_a_podar, reverse=True):\n",
    "            caminos.pop(indice)\n",
    "        \n",
    "        return caminos\n",
    "\n",
    "    def branch_and_bound(self, n0, nf):\n",
    "        if self.coste is None:\n",
    "            raise ValueError(\"Se requiere una función de coste para el algoritmo de branch and bound.\")\n",
    "        \n",
    "        resul = None\n",
    "        lista_caminos = [[n0]]\n",
    "        encontrado = False\n",
    "\n",
    "        while lista_caminos and not encontrado:\n",
    "            expansiones = self.expandir(lista_caminos[0])\n",
    "            for expansion in expansiones:\n",
    "                if expansion[-1] == nf:\n",
    "                    encontrado = True\n",
    "                    resul = expansion\n",
    "                    break\n",
    "            lista_caminos = expansiones + lista_caminos[1:]\n",
    "            lista_caminos = self.poda(lista_caminos)\n",
    "            lista_caminos.sort(key=self.coste)\n",
    "        \n",
    "        return resul\n",
    "\n",
    "    def aestrella(self, n0, nf):\n",
    "        if self.coste is None or self.heuristico is None:\n",
    "            raise ValueError(\"Se requieren funciones de heurística y coste para el algoritmo A*.\")\n",
    "        \n",
    "        resul = None\n",
    "        lista_caminos = [[n0]]\n",
    "        encontrado = False\n",
    "\n",
    "        while lista_caminos and not encontrado:\n",
    "            expansiones = self.expandir(lista_caminos[0])\n",
    "            for expansion in expansiones:\n",
    "                if expansion[-1] == nf:\n",
    "                    encontrado = True\n",
    "                    resul = expansion\n",
    "                    break\n",
    "            lista_caminos = expansiones + lista_caminos[1:]\n",
    "            lista_caminos = self.poda(lista_caminos)\n",
    "            lista_caminos.sort(key=lambda x: self.coste(x) + self.heuristico(x[-1], nf))\n",
    "        \n",
    "        return resul"
   ],
   "outputs": [],
   "execution_count": 502
  }
 ],
 "metadata": {
  "kernelspec": {
   "display_name": "Python 3",
   "language": "python",
   "name": "python3"
  },
  "language_info": {
   "codemirror_mode": {
    "name": "ipython",
    "version": 3
   },
   "file_extension": ".py",
   "mimetype": "text/x-python",
   "name": "python",
   "nbconvert_exporter": "python",
   "pygments_lexer": "ipython3",
   "version": "3.11.9"
  },
  "toc": {
   "base_numbering": 1,
   "nav_menu": {},
   "number_sections": true,
   "sideBar": true,
   "skip_h1_title": false,
   "title_cell": "Table of Contents",
   "title_sidebar": "Contents",
   "toc_cell": false,
   "toc_position": {},
   "toc_section_display": true,
   "toc_window_display": false
  }
 },
 "nbformat": 4,
 "nbformat_minor": 4
}
